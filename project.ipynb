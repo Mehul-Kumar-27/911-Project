{
 "cells": [
  {
   "cell_type": "code",
   "execution_count": null,
   "metadata": {},
   "outputs": [],
   "source": [
    "import pandas as pd\n",
    "import numpy as np\n",
    "import matplotlib.pyplot as plt\n",
    "import seaborn as sns\n",
    "%matplotlib inline\n",
    "\n",
    "csv_path = \"911 Data\\911.csv\"\n",
    "df = pd.read_csv(csv_path)\n",
    "df.info()"
   ]
  },
  {
   "cell_type": "code",
   "execution_count": null,
   "metadata": {},
   "outputs": [],
   "source": [
    "df.head(3)"
   ]
  },
  {
   "cell_type": "code",
   "execution_count": null,
   "metadata": {},
   "outputs": [],
   "source": [
    "### Find the top 5 ZIP code present\n",
    "df[\"zip\"].value_counts().head(5)"
   ]
  },
  {
   "cell_type": "code",
   "execution_count": null,
   "metadata": {},
   "outputs": [],
   "source": [
    "### Top 5 townships \n",
    "df[\"twp\"].value_counts().head(5)"
   ]
  },
  {
   "cell_type": "markdown",
   "metadata": {},
   "source": [
    "### How many unique titles are there\n",
    "df[\"title\"].value_counts().__len__()"
   ]
  },
  {
   "cell_type": "markdown",
   "metadata": {
    "tags": []
   },
   "source": [
    "In the titles column there are \"Reasons/Departments\" specified before the title code. These\n",
    "are EMS, Fire, and Traffic. Use .apply() with a custom lambda expression to create a new\n",
    "column called \"Reason\" that contains this string value.\n",
    "For example, if the title column value is EMS: BACK PAINS/INJURY , the Reason column\n",
    "value would be EMS."
   ]
  },
  {
   "cell_type": "code",
   "execution_count": null,
   "metadata": {},
   "outputs": [],
   "source": [
    "df[\"title\"].head(5)"
   ]
  },
  {
   "cell_type": "code",
   "execution_count": null,
   "metadata": {},
   "outputs": [],
   "source": [
    "df[\"title\"] = df[\"title\"].astype(str)\n",
    "\n",
    "# Access the first element of the 'title' column\n",
    "print(df[\"title\"].iloc[0].split(\":\"))\n",
    "df[\"Reason\"] = df[\"title\"].apply(lambda title: title.split(\":\")[0])\n",
    "df[\"Reason\"].head()"
   ]
  },
  {
   "cell_type": "code",
   "execution_count": null,
   "metadata": {},
   "outputs": [],
   "source": [
    "### Most common reason for the 911 call\n",
    "\n",
    "df[\"Reason\"].value_counts().head(1)"
   ]
  },
  {
   "cell_type": "code",
   "execution_count": null,
   "metadata": {},
   "outputs": [],
   "source": [
    "sns.countplot(data=df, x= \"Reason\")"
   ]
  },
  {
   "cell_type": "code",
   "execution_count": null,
   "metadata": {},
   "outputs": [],
   "source": [
    "type(df[\"timeStamp\"].iloc[0])\n",
    "\n",
    "df[\"timeStamp\"] = pd.to_datetime(df[\"timeStamp\"])\n",
    "firstDate = df[\"timeStamp\"].iloc[0]\n",
    "firstDate"
   ]
  },
  {
   "cell_type": "markdown",
   "metadata": {},
   "source": [
    "You can now grab specific attributes from a Datetime object by calling them. For example:\n",
    "= df[ 'timeStamp']\n",
    "time\n",
    "time. hour\n",
    "You can use Jupyterls tab method to explore the various attributes you can call. Now that\n",
    "the timestamp column are actually DateTime objects, use .apply() to create 3 new columns\n",
    "called Hour, Month, and Day of Week. You will create these columns based off of the\n",
    "timeStamp column, reference the solutions if you get stuck on this step."
   ]
  },
  {
   "cell_type": "code",
   "execution_count": null,
   "metadata": {},
   "outputs": [],
   "source": [
    "def extractHour(x):\n",
    "    return x.hour\n",
    "def extractMonth(x):\n",
    "    return x.month\n",
    "def extractDayOfWeek(DateTime):\n",
    "    return DateTime.day_of_week\n",
    "df[\"hours\"] = df[\"timeStamp\"].apply(extractHour)\n",
    "df[\"Month\"] = df[\"timeStamp\"].apply(extractMonth)\n",
    "df[\"Weekday\"] = df[\"timeStamp\"].apply(extractDayOfWeek)\n",
    "\n",
    "dmap ={0:\"Mon\",1: \"Tue\", 2:\"Wed\", 3:\"Thu\", 4: \"Fri\", 5:\"Sat\", 6: \"Sun\"}\n",
    "df[\"Weekday\"] = df[\"Weekday\"].map(dmap)\n",
    "df[\"Weekday\"].value_counts()\n",
    "\n"
   ]
  },
  {
   "cell_type": "code",
   "execution_count": null,
   "metadata": {},
   "outputs": [],
   "source": [
    "df.head(5)"
   ]
  },
  {
   "cell_type": "code",
   "execution_count": null,
   "metadata": {},
   "outputs": [],
   "source": [
    "# Now use seaborn to create a countplot of the Day of Week column with the hue based off of\n",
    "# the Reason column.\n",
    "\n",
    "sns.countplot(x=\"Weekday\", data= df, hue= \"Reason\", palette=\"viridis\")\n",
    "# To relocate the Legend\n",
    "plt.legend (bbox_to_anchor=(1.05, 1), loc=2, borderaxespad=0. )"
   ]
  },
  {
   "cell_type": "code",
   "execution_count": null,
   "metadata": {},
   "outputs": [],
   "source": [
    "\n",
    "sns.countplot(x=\"Month\", data= df, hue= \"Reason\", palette=\"viridis\")\n",
    "# To relocate the Legend\n",
    "plt.legend (bbox_to_anchor=(1.05, 1), loc=2, borderaxespad=0. )"
   ]
  },
  {
   "cell_type": "code",
   "execution_count": null,
   "metadata": {},
   "outputs": [],
   "source": [
    "groupByMonth = df.groupby(\"Month\").count().reset_index()\n",
    "groupByMonth\n"
   ]
  },
  {
   "cell_type": "code",
   "execution_count": null,
   "metadata": {},
   "outputs": [],
   "source": [
    "groupByMonth[\"lat\"].plot()"
   ]
  },
  {
   "cell_type": "code",
   "execution_count": null,
   "metadata": {},
   "outputs": [],
   "source": [
    "sns.lmplot(x=\"Month\", y = \"twp\", data=groupByMonth)"
   ]
  }
 ],
 "metadata": {
  "kernelspec": {
   "display_name": "base",
   "language": "python",
   "name": "python3"
  },
  "language_info": {
   "codemirror_mode": {
    "name": "ipython",
    "version": 3
   },
   "file_extension": ".py",
   "mimetype": "text/x-python",
   "name": "python",
   "nbconvert_exporter": "python",
   "pygments_lexer": "ipython3",
   "version": "3.10.9"
  },
  "orig_nbformat": 4
 },
 "nbformat": 4,
 "nbformat_minor": 2
}
